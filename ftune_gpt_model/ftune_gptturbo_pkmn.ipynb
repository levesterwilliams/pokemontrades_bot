{
 "cells": [
  {
   "cell_type": "code",
   "execution_count": 2,
   "id": "f7164abe-f01a-4504-8319-dd484de0a00c",
   "metadata": {},
   "outputs": [
    {
     "name": "stdout",
     "output_type": "stream",
     "text": [
      "Enter OpenAI API key:\n"
     ]
    },
    {
     "name": "stdin",
     "output_type": "stream",
     "text": [
      " ········\n"
     ]
    },
    {
     "name": "stdout",
     "output_type": "stream",
     "text": [
      "{\"messages\": [{\"role\": \"system\", \"content\": \"Generate a JSON string that describes a PokÃ©mon trade or giveaway, including sender's and receiver's PokÃ©mon details such as the name, IV, gender, ability, hidden ability, region, language, and form of each Pokemon.\"}, {\"role\": \"user\", \"content\": \"Masudo Ditto Max IVs\\\\nSV\\\\nLooking to trade a English Ditto 5/6 best IVs with a master ball for Japanese or German Max IVs Ditto\\n\"}, {\"role\": \"assistant\", \"content\": \"{ \\\"Sender's Pokemon\\\" :  [ { \\\"Pokemon\\\" : \\\"Ditto\\\" , \\\"IV\\\" : [\\\"pvp - 0 atk max\\\" , \\\"pvp - 0 spd max\\\" , \\\"max\\\"] , \\\"nature\\\" : [] , \\\"gender\\\" : [] , \\\"ability\\\" : [] , \\\"hidden ability\\\" : [] , \\\"language\\\" : [\\\"JPN\\\"] , \\\"form\\\" : [] , \\\"special\\\" : [] , \\\"pokeball\\\" :[\\\"master\\\"] , \\\"shiny\\\" : false } ] , \\\"Requested Pokemon\\\" : [ { \\\"Pokemon\\\" : \\\"Ditto\\\" , \\\"IV\\\" : [\\\"pvp - 0 atk max\\\" , \\\"pvp - 0 spd max\\\" , \\\"max\\\"] , \\\"nature\\\" : [] , \\\"gender\\\" : [] , \\\"ability\\\" : [] , \\\"hidden ability\\\" : [] , \\\"language\\\" : [\\\"JPN\\\" , \\\"GER\\\"] , \\\"form\\\" : [] , \\\"special\\\" : [] , \\\"pokeball\\\" : [] , \\\"shiny\\\" : false } ] , \\\"version\\\" : \\\"SV\\\" , \\\"action\\\" : \\\"trade\\\" }\"}]}\n",
      "{\"messages\": [{\"role\": \"system\", \"content\": \"Generate a JSON string that describes a PokÃ©mon trade or giveaway, including sender's and receiver's PokÃ©mon details such as the name, IV, gender, ability, hidden ability, region, language, and form of each Pokemon.\"}, {\"role\": \"user\", \"content\": \"LF Vivillon patterns, not fussy on quality, just colour-matchy or default balls\\\\nXYORAS\\\\nSo I was just given Continental, Plains, Modern, Meadow and River Vivillon from a very generous Safari Code stranger. It re-kindled the intention I'd had when XY came out to collect all patterns. At the time I'd thought \\\"Finally, a game I can play at release and get the full experience!\\\" Except back then, I had the time but not the money, and then when I had the money, I didn't have the time. Welcome to adulthood. 10 years later, here we are, impending shutdown, trying my luck.\\\\nLF Snow, Tundra, Elegant, Marine, Sandstorm, Monsoon, Savanna, Sun, Ocean\\\\nFT My native Vivillon is Garden. Happy to attempt any requests. New to trading over the internets, please be patient with me :)\"}, {\"role\": \"assistant\", \"content\": \"{ \\\"Sender's Pokemon\\\" :  [ { \\\"Pokemon\\\" : \\\"Vivillon\\\" , \\\"IV\\\" : [] , \\\"nature\\\" : [] , \\\"gender\\\" : [] , \\\"ability\\\" : [] , \\\"hidden ability\\\" : [] , \\\"language\\\" : [] , \\\"form\\\" : [\\\"Garden\\\"] , \\\"special\\\" : [] , \\\"pokeball\\\" : [] , \\\"shiny\\\" : false} ] , \\\"Requested Pokemon\\\" : [ { \\\"Pokemon\\\" : \\\"Vivillon\\\" , \\\"IV\\\" : [] , \\\"nature\\\" : [] , \\\"gender\\\" : [] , \\\"ability\\\" : [] , \\\"hidden ability\\\" : [] , \\\"language\\\" : [] , \\\"form\\\" : [ \\\"snow\\\" , \\\"tundra\\\" , \\\"elegant\\\" , \\\"marine\\\" , \\\"sandstorm\\\" , \\\"monsoon\\\" , \\\"savanna\\\" , \\\"sun\\\" , \\\"ocean\\\"] , \\\"special\\\" : [] , \\\"pokeball\\\" : [] , \\\"shiny\\\" : false } ] , \\\"version\\\" : \\\"XYORAS\\\" , \\\"action\\\" : \\\"trade\\\" }\"}]}\n",
      "{\"messages\": [{\"role\": \"system\", \"content\": \"Generate a JSON string that describes a PokÃ©mon trade or giveaway, including sender's and receiver's PokÃ©mon details such as the name, IV, gender, ability, hidden ability, region, language, and form of each Pokemon.\"}, {\"role\": \"user\", \"content\": \"Lf 2 PokÃ©mon you want to evolve ft my pumpkaboos from different versions of the game\\\\nSWSH\"}, {\"role\": \"assistant\", \"content\": \"{ \\\"Sender's Pokemon\\\" :  [ { \\\"Pokemon\\\" : \\\"Pumkaboo\\\" , \\\"IV\\\" : [] , \\\"nature\\\" : [] , \\\"gender\\\" : [] , \\\"ability\\\" : [] , \\\"hidden ability\\\" : [] , \\\"language\\\" : [] , \\\"form\\\" : [] , \\\"special\\\" : [] , \\\"pokeball\\\" : [] , \\\"shiny\\\" : false} ] , \\\"Requested Pokemon\\\" : [ { \\\"Pokemon\\\" : \\\"Pumkaboo\\\" , \\\"IV\\\" : [] , \\\"nature\\\" : [] , \\\"gender\\\" : [] , \\\"ability\\\" : [] , \\\"hidden ability\\\" : [] , \\\"language\\\" : [] , \\\"form\\\" : [] , \\\"special\\\" : [] , \\\"pokeball\\\" : [] , \\\"shiny\\\" : false } ] , \\\"version\\\" : \\\"SWSH\\\" , \\\"action\\\" : \\\"touch trade\\\" }\"}]}\n",
      "{\"messages\": [{\"role\": \"system\", \"content\": \"Generate a JSON string that describes a PokÃ©mon trade or giveaway, including sender's and receiver's PokÃ©mon details such as the name, IV, gender, ability, hidden ability, region, language, and form of each Pokemon.\"}, {\"role\": \"user\", \"content\": \"LF: Item Transfer FT: Apriball\\nSV\\n\\nLF:\\n\\nItem Transfer (12 Apriballs)\\n\\nFT:\\n\\n1 Apriball\"}, {\"role\": \"assistant\", \"content\": \"{ \\\"Sender's Pokemon\\\" :  [] , \\\"Requested Pokemon\\\" : [] , \\\"version\\\" : \\\"SV\\\" , \\\"action\\\" : \\\"item trade\\\" }\"}]}\n",
      "{\"messages\": [{\"role\": \"system\", \"content\": \"Generate a JSON string that describes a PokÃ©mon trade or giveaway, including sender's and receiver's PokÃ©mon details such as the name, IV, gender, ability, hidden ability, region, language, and form of each Pokemon.\"}, {\"role\": \"user\", \"content\": \"LF: Paldea starters in premier balls\\nSV\"}, {\"role\": \"assistant\", \"content\": \"{ \\\"Sender's Pokemon\\\" :  [] , \\\"Requested Pokemon\\\" : [ { \\\"Pokemon\\\" : \\\"Spigatito\\\" , \\\"IV\\\" : [] , \\\"nature\\\" : [] , \\\"gender\\\" : [] , \\\"ability\\\" : [] , \\\"hidden ability\\\" : [] , \\\"language\\\" : [] , \\\"form\\\" : [] , \\\"special\\\" : [] , \\\"pokeball\\\" : [\\\"premiere\\\"] , \\\"shiny\\\" : false } , { \\\"Pokemon\\\" : \\\"Fuecoco\\\" , \\\"IV\\\" : [] , \\\"nature\\\" : [] , \\\"gender\\\" : [] , \\\"ability\\\" : [] , \\\"hidden ability\\\" : [] , \\\"language\\\" : [] , \\\"form\\\" : [] , \\\"special\\\" : [] , \\\"pokeball\\\" : [\\\"premiere\\\"] , \\\"shiny\\\" : false } , { \\\"Pokemon\\\" : \\\"Quaxly\\\" , \\\"IV\\\" : [] , \\\"nature\\\" : [] , \\\"gender\\\" : [] , \\\"ability\\\" : [] , \\\"hidden ability\\\" : [] , \\\"language\\\" : [] , \\\"form\\\" : [] , \\\"special\\\" : [] , \\\"pokeball\\\" : [\\\"premiere\\\"] , \\\"shiny\\\" : false } ] , \\\"version\\\" : \\\"SV\\\" , \\\"action\\\" : \\\"trade\\\" }\"}]}\n",
      "{\"messages\": [{\"role\": \"system\", \"content\": \"Generate a JSON string that describes a PokÃ©mon trade or giveaway, including sender's and receiver's PokÃ©mon details such as the name, IV, gender, ability, hidden ability, region, language, and form of each Pokemon.\"}, {\"role\": \"user\", \"content\": \"Looking for raging bolt and gauging fire\\nSV\"}, {\"role\": \"assistant\", \"content\": \"{ \\\"Sender's Pokemon\\\" :  [] , \\\"Requested Pokemon\\\" : [ { \\\"Pokemon\\\" : \\\"Raging Bolt\\\" , \\\"IV\\\" : [] , \\\"nature\\\" : [] , \\\"gender\\\" : [] , \\\"ability\\\" : [] , \\\"hidden ability\\\" : [] , \\\"language\\\" : [] , \\\"form\\\" : [] , \\\"special\\\" : [] , \\\"pokeball\\\" : [] , \\\"shiny\\\" : false } , { \\\"Pokemon\\\" : \\\"Gouging Fire\\\" , \\\"IV\\\" : [] , \\\"nature\\\" : [] , \\\"gender\\\" : [] , \\\"ability\\\" : [] , \\\"hidden ability\\\" : [] , \\\"language\\\" : [] , \\\"form\\\" : [] , \\\"special\\\" : [] , \\\"pokeball\\\" : [] , \\\"shiny\\\" : false } ] , \\\"version\\\" : \\\"SV\\\" , \\\"action\\\" : \\\"trade\\\" }\"}]}\n",
      "{\"messages\": [{\"role\": \"system\", \"content\": \"Generate a JSON string that describes a PokÃ©mon trade or giveaway, including sender's and receiver's PokÃ©mon details such as the name, IV, gender, ability, hidden ability, region, language, and form of each Pokemon.\"}, {\"role\": \"user\", \"content\": \"LF: Former Titan Great Tusk with custom OT. FT: Former Titan Iron Treads with your custom OT.\\nSV\\n\\nI'm looking to collect a Former Titan Great Tusk. This is specifically the Great Tusk with a Titan Mark that you can catch in the desert in Scarlet. I also want it to have my custom OT and be caught in an Ultra Ball.\\n\\nI realize this will be a time investment for someone to get for me, so in exchange I'd be happy to offer you the Iron Treads equivalent. Or would you prefer something else instead? Let me know what else you would be interested in trading for and I'll see if I can get it for you.\"}, {\"role\": \"assistant\", \"content\": \"{ \\\"Sender's Pokemon\\\" :  [ { \\\"Pokemon\\\" : \\\"Iron Treads\\\" , \\\"IV\\\" : [] , \\\"nature\\\" : [] , \\\"gender\\\" : [] , \\\"ability\\\" : [] , \\\"hidden ability\\\" : [] , \\\"language\\\" : [] , \\\"form\\\" : [\\\"regular\\\"] , \\\"special\\\" : [\\\"Titan Mark\\\"] , \\\"pokeball\\\" :[] , \\\"shiny\\\" : false } ] , \\\"Requested Pokemon\\\" : [ { \\\"Pokemon\\\" : \\\"Great Tusk\\\" , \\\"IV\\\" : [] , \\\"nature\\\" : [] , \\\"gender\\\" : [] , \\\"ability\\\" : [] , \\\"hidden ability\\\" : [] , \\\"language\\\" : [] , \\\"form\\\" : [\\\"regular\\\"] , \\\"special\\\" : [\\\"Titan Mark\\\"] , \\\"pokeball\\\" :[ \\\"ultra ball\\\"] , \\\"shiny\\\" : false } ] , \\\"version\\\" : \\\"SV\\\" , \\\"action\\\" : \\\"trade\\\" }\"}]}\n",
      "{\"messages\": [{\"role\": \"system\", \"content\": \"Generate a JSON string that describes a PokÃ©mon trade or giveaway, including sender's and receiver's PokÃ©mon details such as the name, IV, gender, ability, hidden ability, region, language, and form of each Pokemon.\"}, {\"role\": \"user\", \"content\": \"Union Circle for Finizen evolution\\nSV\\n\\nHi, i'm looking for someone who can invite me in their union Circle so I can pop a rarecandy on my finizen to evolve it\"}, {\"role\": \"assistant\", \"content\": \"{ \\\"Sender's Pokemon\\\" :  [] , \\\"Requested Pokemon\\\" : [] , \\\"version\\\" : \\\"SV\\\" , \\\"action\\\" : \\\"union circle\\\" }\"}]}\n",
      "{\"messages\": [{\"role\": \"system\", \"content\": \"Generate a JSON string that describes a PokÃ©mon trade or giveaway, including sender's and receiver's PokÃ©mon details such as the name, IV, gender, ability, hidden ability, region, language, and form of each Pokemon.\"}, {\"role\": \"user\", \"content\": \"LF: Koraidon touch trade FT: Miraidon touch trade\\nSV\"}, {\"role\": \"assistant\", \"content\": \"{ \\\"Sender's Pokemon\\\" :  [ { \\\"Pokemon\\\" : \\\"Miraidon\\\" , \\\"IV\\\" : [] , \\\"nature\\\" : [] , \\\"gender\\\" : [] , \\\"ability\\\" : [] , \\\"hidden ability\\\" : [] , \\\"language\\\" : [] , \\\"form\\\" : [] , \\\"special\\\" : [] , \\\"pokeball\\\" :[] , \\\"shiny\\\" : false } ] , \\\"Requested Pokemon\\\" : [ { \\\"Pokemon\\\" : \\\"Koraidon\\\" , \\\"IV\\\" : [] , \\\"nature\\\" : [] , \\\"gender\\\" : [] , \\\"ability\\\" : [] , \\\"hidden ability\\\" : [] , \\\"language\\\" : [] , \\\"form\\\" : [] , \\\"special\\\" : [] , \\\"pokeball\\\" : [] , \\\"shiny\\\" : false } ] , \\\"version\\\" : \\\"SV\\\" , \\\"action\\\" : \\\"touch trade\\\" }\"}]}\n",
      "{\"messages\": [{\"role\": \"system\", \"content\": \"Generate a JSON string that describes a PokÃ©mon trade or giveaway, including sender's and receiver's PokÃ©mon details such as the name, IV, gender, ability, hidden ability, region, language, and form of each Pokemon.\"}, {\"role\": \"user\", \"content\": \"LF: Iron Boulder, Iron Crown FT: misc legendary\\nSV\\n\\nI have a Rayquaza, calyrex, eternatus, necrozma, or Kyurem, take your pick.\\n\\nAlso looking for (with less priority): walking wake and iron leaves\"}, {\"role\": \"assistant\", \"content\": \"{ \\\"Sender's Pokemon\\\" :  [ { \\\"Pokemon\\\" : \\\"Rayquaza\\\" , \\\"IV\\\" : [] , \\\"nature\\\" : [] , \\\"gender\\\" : [] , \\\"ability\\\" : [] , \\\"hidden ability\\\" : [] , \\\"language\\\" : [] , \\\"form\\\" : [] , \\\"special\\\" : [] , \\\"pokeball\\\" :[] , \\\"shiny\\\" : false } , { \\\"Pokemon\\\" : \\\"Calyrex\\\" , \\\"IV\\\" : [] , \\\"nature\\\" : [] , \\\"gender\\\" : [] , \\\"ability\\\" : [] , \\\"hidden ability\\\" : [] , \\\"language\\\" : [] , \\\"form\\\" : [] , \\\"special\\\" : [] , \\\"pokeball\\\" :[] , \\\"shiny\\\" : false } , { \\\"Pokemon\\\" : \\\"Eternatus\\\" , \\\"IV\\\" : [] , \\\"nature\\\" : [] , \\\"gender\\\" : [] , \\\"ability\\\" : [] , \\\"hidden ability\\\" : [] , \\\"language\\\" : [] , \\\"form\\\" : [] , \\\"special\\\" : [] , \\\"pokeball\\\" :[] , \\\"shiny\\\" : false } , { \\\"Pokemon\\\" : \\\"Necrozma\\\" , \\\"IV\\\" : [] , \\\"nature\\\" : [] , \\\"gender\\\" : [] , \\\"ability\\\" : [] , \\\"hidden ability\\\" : [] , \\\"language\\\" : [] , \\\"form\\\" : [] , \\\"special\\\" : [] , \\\"pokeball\\\" :[] , \\\"shiny\\\" : false } , { \\\"Pokemon\\\" : \\\"Kyurem\\\" , \\\"IV\\\" : [] , \\\"nature\\\" : [] , \\\"gender\\\" : [] , \\\"ability\\\" : [] , \\\"hidden ability\\\" : [] , \\\"language\\\" : [] , \\\"form\\\" : [] , \\\"special\\\" : [] , \\\"pokeball\\\" :[] , \\\"shiny\\\" : false }  ] , \\\"Requested Pokemon\\\" : [ { \\\"Pokemon\\\" : \\\"Iron Crown\\\" , \\\"IV\\\" : [] , \\\"nature\\\" : [] , \\\"gender\\\" : [] , \\\"ability\\\" : [] , \\\"hidden ability\\\" : [] , \\\"language\\\" : [] , \\\"form\\\" : [] , \\\"special\\\" : [] , \\\"pokeball\\\" : [] , \\\"shiny\\\" : false } , { \\\"Pokemon\\\" : \\\"Rayquaza\\\" , \\\"IV\\\" : [] , \\\"nature\\\" : [] , \\\"gender\\\" : [] , \\\"ability\\\" : [] , \\\"hidden ability\\\" : [] , \\\"language\\\" : [] , \\\"form\\\" : [] , \\\"special\\\" : [] , \\\"pokeball\\\" :[] , \\\"shiny\\\" : false }  ] , \\\"version\\\" : \\\"SV\\\" , \\\"action\\\" : \\\"trade\\\" }\"}]}\n"
     ]
    }
   ],
   "source": [
    "import os\n",
    "import openai\n",
    "\n",
    "from getpass import getpass\n",
    "print('Enter OpenAI API key:')\n",
    "openai.api_key = getpass()\n",
    "\n",
    "os.environ['OPENAI_API_KEY']=openai.api_key\n",
    "!head '{\"ftune_training_data_gpt.jsonl\"}'"
   ]
  },
  {
   "cell_type": "code",
   "execution_count": 4,
   "id": "5680a2b7-def7-4906-8af2-59d1f36d0748",
   "metadata": {},
   "outputs": [
    {
     "data": {
      "text/plain": [
       "FileObject(id='file-mLgIqD0diwzxkVAJm8Wt7MMP', bytes=37680, created_at=1712642276, filename='ftune_training_data_gpt.jsonl', object='file', purpose='fine-tune', status='processed', status_details=None)"
      ]
     },
     "execution_count": 4,
     "metadata": {},
     "output_type": "execute_result"
    }
   ],
   "source": [
    "client = openai.OpenAI()\n",
    "\n",
    "client.files.create(\n",
    "  file=open(\"ftune_training_data_gpt.jsonl\", \"rb\"),\n",
    "  purpose=\"fine-tune\"\n",
    ")"
   ]
  },
  {
   "cell_type": "code",
   "execution_count": 5,
   "id": "b5c371f4-ac4f-48b2-b157-a1b61c7236df",
   "metadata": {},
   "outputs": [
    {
     "data": {
      "text/plain": [
       "FineTuningJob(id='ftjob-8TaDZrmlSOlx9XmhvJGWIK06', created_at=1712642295, error=Error(code=None, message=None, param=None, error=None), fine_tuned_model=None, finished_at=None, hyperparameters=Hyperparameters(n_epochs='auto', batch_size='auto', learning_rate_multiplier='auto'), model='gpt-3.5-turbo-0125', object='fine_tuning.job', organization_id='org-CZlFzbDxdf1L4vLbz7wi9rvN', result_files=[], status='validating_files', trained_tokens=None, training_file='file-mLgIqD0diwzxkVAJm8Wt7MMP', validation_file=None, user_provided_suffix=None, seed=45923206, integrations=[])"
      ]
     },
     "execution_count": 5,
     "metadata": {},
     "output_type": "execute_result"
    }
   ],
   "source": [
    "client.fine_tuning.jobs.create(\n",
    "  training_file=\"file-mLgIqD0diwzxkVAJm8Wt7MMP\", \n",
    "  model=\"gpt-3.5-turbo\"\n",
    ")"
   ]
  },
  {
   "cell_type": "code",
   "execution_count": 6,
   "id": "bebcbb43-5b9b-4394-830e-0b3f5cc1fe01",
   "metadata": {},
   "outputs": [
    {
     "data": {
      "text/plain": [
       "SyncCursorPage[FineTuningJobEvent](data=[FineTuningJobEvent(id='ftevent-7wOxYdsP2N9GotIEyFg3vKTu', created_at=1712642320, level='info', message='Fine-tuning job started', object='fine_tuning.job.event', data=None, type='message'), FineTuningJobEvent(id='ftevent-6upW0Cslycpt9nxlv0GCc8Oi', created_at=1712642318, level='info', message='Files validated, moving job to queued state', object='fine_tuning.job.event', data={}, type='message'), FineTuningJobEvent(id='ftevent-4gLGchCqS9WLsUMZYCQXUulm', created_at=1712642295, level='info', message='Validating training file: file-mLgIqD0diwzxkVAJm8Wt7MMP', object='fine_tuning.job.event', data={}, type='message'), FineTuningJobEvent(id='ftevent-0cVA1UmRJNj9xnFvZZKKCN3T', created_at=1712642295, level='info', message='Created fine-tuning job: ftjob-8TaDZrmlSOlx9XmhvJGWIK06', object='fine_tuning.job.event', data={}, type='message')], object='list', has_more=False)"
      ]
     },
     "execution_count": 6,
     "metadata": {},
     "output_type": "execute_result"
    }
   ],
   "source": [
    "# List 10 fine-tuning jobs\n",
    "client.fine_tuning.jobs.list(limit=30)\n",
    "\n",
    "# Retrieve the state of a fine-tune\n",
    "client.fine_tuning.jobs.retrieve(\"ftjob-8TaDZrmlSOlx9XmhvJGWIK06\")\n",
    "\n",
    "# List up to 10 events from a fine-tuning job\n",
    "client.fine_tuning.jobs.list_events(fine_tuning_job_id=\"ftjob-8TaDZrmlSOlx9XmhvJGWIK06\", limit=10)\n",
    "\n",
    "\n",
    "# Cancel a job\n",
    "# client.fine_tuning.jobs.cancel(\"my_job_id\")"
   ]
  },
  {
   "cell_type": "code",
   "execution_count": 25,
   "id": "8ed5c2f8-3af9-469e-9e8d-5f538149d82b",
   "metadata": {},
   "outputs": [
    {
     "name": "stdout",
     "output_type": "stream",
     "text": [
      "{ \"Sender's Pokemon\" :  [ { \"Pokemon\" : \"Zamazenta\" , \"IV\" : [] , \"nature\" : [] , \"gender\" : [] , \"ability\" : [] , \"hidden ability\" : [] , \"language\" : [] , \"form\" : [] , \"special\" : [] , \"pokeball\" :[] , \"shiny\" : false } ] , \"Requested Pokemon\" : [ { \"Pokemon\" : \"Zacian\" , \"IV\" : [] , \"nature\" : [] , \"gender\" : [] , \"ability\" : [] , \"hidden ability\" : [] , \"language\" : [] , \"form\" : [] , \"special\" : [] , \"pokeball\" : [] , \"shiny\" : false } ] , \"version\" : \"SWSH\" , \"action\" : \"trade\" }\n"
     ]
    }
   ],
   "source": [
    "def generate_jsonstring(finetuned_model):\n",
    "  client = openai.OpenAI()\n",
    "  prompt = \"\"\"LF Zacian for Zamazenta\n",
    "SWSH\n",
    "\n",
    "I’m looking for Zacian and willing to trade Zamazenta if anyone is willing to give there’s up. If not I’m open to a touch trade to help my Pokédex. I was hoping to get Zacian to update my Pokemon home Pokédex.\n",
    "\"\"\"\n",
    "  system_message = {\"role\" : \"system\", \"content\" : \"Generate a JSON string that describes a Pokémon trade or giveaway, including sender's and receiver's Pokémon details such as the name, IV, gender, ability, hidden ability, region, language, and form of each Pokemon.\"}\n",
    "  response = client.chat.completions.create(\n",
    "      model=finetuned_model,\n",
    "      messages = [\n",
    "          system_message,\n",
    "          {\"role\" : \"user\", \"content\" : prompt}\n",
    "      ],\n",
    "      temperature=0.7,\n",
    "      max_tokens=500,\n",
    "      top_p=1,\n",
    "      frequency_penalty=0,\n",
    "      presence_penalty=0,\n",
    "      stop=[\"###\"]\n",
    "      )\n",
    "  return response.choices[0].message.content.strip()\n",
    "\n",
    "# Replace with your model's name\n",
    "finetuned_model = \"ft:gpt-3.5-turbo-0125:personal::9BurV9Wd\"\n",
    "print(generate_jsonstring(finetuned_model))"
   ]
  },
  {
   "cell_type": "code",
   "execution_count": null,
   "id": "66718f6a-57bb-437e-bb5e-cfc070986777",
   "metadata": {},
   "outputs": [],
   "source": []
  }
 ],
 "metadata": {
  "kernelspec": {
   "display_name": "Python 3 (ipykernel)",
   "language": "python",
   "name": "python3"
  },
  "language_info": {
   "codemirror_mode": {
    "name": "ipython",
    "version": 3
   },
   "file_extension": ".py",
   "mimetype": "text/x-python",
   "name": "python",
   "nbconvert_exporter": "python",
   "pygments_lexer": "ipython3",
   "version": "3.11.0"
  }
 },
 "nbformat": 4,
 "nbformat_minor": 5
}
